{
 "cells": [
  {
   "cell_type": "code",
   "execution_count": 96,
   "metadata": {},
   "outputs": [],
   "source": [
    "from bs4 import BeautifulSoup\n",
    "from selenium import webdriver\n",
    "import time\n",
    "import pymongo"
   ]
  },
  {
   "cell_type": "code",
   "execution_count": 97,
   "metadata": {},
   "outputs": [],
   "source": [
    "URL = \"https://www.linkedin.com/search/results/people/?facetNetwork=%5B%22F%22%5D&origin=MEMBER_PROFILE_CANNED_SEARCH\""
   ]
  },
  {
   "cell_type": "code",
   "execution_count": 94,
   "metadata": {},
   "outputs": [],
   "source": [
    "name_box = soup.find('title') ##, attrs={'class': 'search-result__info pt3 pb4 ph0'})"
   ]
  },
  {
   "cell_type": "code",
   "execution_count": 118,
   "metadata": {},
   "outputs": [],
   "source": [
    "def linkedin_login(browser, username, password):\n",
    "    browser.get('https://www.linkedin.com/uas/login')\n",
    "\n",
    "    username_input = browser.find_element_by_id('username')\n",
    "    username_input.send_keys(username)\n",
    "\n",
    "    password_input = browser.find_element_by_id('password')\n",
    "    password_input.send_keys(password)\n",
    "    try:\n",
    "        password_input.submit()\n",
    "    except:\n",
    "        pass"
   ]
  },
  {
   "cell_type": "code",
   "execution_count": 119,
   "metadata": {},
   "outputs": [],
   "source": [
    "browser = webdriver.Chrome(\"D:\\Desarrollo\\chromedriver_win32\\chromedriver.exe\")\n",
    "\n",
    "linkedin_login(browser, \"*****@****.com\", \"PASSWORD\")"
   ]
  },
  {
   "cell_type": "code",
   "execution_count": 121,
   "metadata": {},
   "outputs": [],
   "source": [
    "browser.get('https://www.linkedin.com/in/alejandro-oscar-semprini-25bb5642/')\n",
    "\n",
    "# Rendering of the page\n",
    "soup = BeautifulSoup(browser.page_source, 'lxml')\n",
    "\n",
    "# Scraping of the Name (profile_name)\n",
    "name_div = soup.find('div', {'class': 'flex-1 mr5'})\n",
    "name_loc = name_div.find_all('ul')\n",
    "profile_name = name_loc[0].find('li').get_text().strip()\n"
   ]
  },
  {
   "cell_type": "code",
   "execution_count": 122,
   "metadata": {},
   "outputs": [
    {
     "name": "stdout",
     "output_type": "stream",
     "text": [
      "Alejandro Oscar Semprini\n"
     ]
    }
   ],
   "source": [
    "print(profile_name)"
   ]
  },
  {
   "cell_type": "code",
   "execution_count": null,
   "metadata": {},
   "outputs": [],
   "source": []
  }
 ],
 "metadata": {
  "kernelspec": {
   "display_name": "Python 3",
   "language": "python",
   "name": "python3"
  },
  "language_info": {
   "codemirror_mode": {
    "name": "ipython",
    "version": 3
   },
   "file_extension": ".py",
   "mimetype": "text/x-python",
   "name": "python",
   "nbconvert_exporter": "python",
   "pygments_lexer": "ipython3",
   "version": "3.7.6"
  }
 },
 "nbformat": 4,
 "nbformat_minor": 4
}
